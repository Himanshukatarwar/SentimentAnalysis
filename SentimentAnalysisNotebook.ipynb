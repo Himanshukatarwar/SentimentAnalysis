{
  "nbformat": 4,
  "nbformat_minor": 0,
  "metadata": {
    "colab": {
      "name": "Intern Task OPC.ipynb",
      "provenance": [],
      "toc_visible": true
    },
    "kernelspec": {
      "name": "python3",
      "display_name": "Python 3"
    }
  },
  "cells": [
    {
      "cell_type": "markdown",
      "metadata": {
        "id": "EO0VwqtTediE"
      },
      "source": [
        "# Introduction :\r\n",
        "<h2>Dataset\r\n",
        "<h3> Imdb Dataset - Dataset contain Reviews given to movies and sentiment of the review.<br>\r\n",
        "<h2> Metrics:\r\n",
        "<h4>1. Accuracy<br>\r\n",
        "<h4>2. Confusion Matrix<br>\r\n",
        "\r\n",
        "<h3> Reference: - https://blog.keras.io/using-pre-trained-word-embeddings-in-a-keras-model.html <br>\r\n",
        "\r\n",
        "<h3> Task :- <i> Train RNN model with pretrained Embedding Layer for Sentimental Analysis.</i>\r\n",
        "\r\n",
        "<h5> APPROACHES -<br>\r\n",
        "<t><h6>1) cleaning reviews.<br>\r\n",
        "2) Tokenize reviews.<br>\r\n",
        "3) Use pretrained embedding layer Word2Vec from Glove.<br>\r\n",
        "4) Encode all the reviews word with Embedding Matrix.<br>\r\n",
        "5) Define the model architecture with RNN.<br>\r\n",
        "6) Training of Model.<br>\r\n",
        "7) Plot Metrics.<br>\r\n"
      ]
    },
    {
      "cell_type": "code",
      "metadata": {
        "id": "PC1f_L4vPgty"
      },
      "source": [
        "# import library\r\n",
        "import pandas as pd\r\n",
        "import matplotlib.pyplot as plt\r\n",
        "import seaborn as sns\r\n",
        "import re\r\n",
        "import numpy as np\r\n",
        "import os\r\n",
        "import warnings\r\n",
        "warnings.filterwarnings(\"ignore\")"
      ],
      "execution_count": 9,
      "outputs": []
    },
    {
      "cell_type": "code",
      "metadata": {
        "colab": {
          "base_uri": "https://localhost:8080/",
          "height": 212
        },
        "id": "Vsi8Oi0tPq4k",
        "outputId": "3e006e17-002f-4588-b519-20f1e21b58d9"
      },
      "source": [
        "# import dataset\r\n",
        "dataset = pd.read_csv(\"/content/drive/MyDrive/IMDB Dataset.csv\")\r\n",
        "print(dataset.shape)\r\n",
        "dataset.head()"
      ],
      "execution_count": 2,
      "outputs": [
        {
          "output_type": "stream",
          "text": [
            "(50000, 2)\n"
          ],
          "name": "stdout"
        },
        {
          "output_type": "execute_result",
          "data": {
            "text/html": [
              "<div>\n",
              "<style scoped>\n",
              "    .dataframe tbody tr th:only-of-type {\n",
              "        vertical-align: middle;\n",
              "    }\n",
              "\n",
              "    .dataframe tbody tr th {\n",
              "        vertical-align: top;\n",
              "    }\n",
              "\n",
              "    .dataframe thead th {\n",
              "        text-align: right;\n",
              "    }\n",
              "</style>\n",
              "<table border=\"1\" class=\"dataframe\">\n",
              "  <thead>\n",
              "    <tr style=\"text-align: right;\">\n",
              "      <th></th>\n",
              "      <th>review</th>\n",
              "      <th>sentiment</th>\n",
              "    </tr>\n",
              "  </thead>\n",
              "  <tbody>\n",
              "    <tr>\n",
              "      <th>0</th>\n",
              "      <td>One of the other reviewers has mentioned that ...</td>\n",
              "      <td>positive</td>\n",
              "    </tr>\n",
              "    <tr>\n",
              "      <th>1</th>\n",
              "      <td>A wonderful little production. &lt;br /&gt;&lt;br /&gt;The...</td>\n",
              "      <td>positive</td>\n",
              "    </tr>\n",
              "    <tr>\n",
              "      <th>2</th>\n",
              "      <td>I thought this was a wonderful way to spend ti...</td>\n",
              "      <td>positive</td>\n",
              "    </tr>\n",
              "    <tr>\n",
              "      <th>3</th>\n",
              "      <td>Basically there's a family where a little boy ...</td>\n",
              "      <td>negative</td>\n",
              "    </tr>\n",
              "    <tr>\n",
              "      <th>4</th>\n",
              "      <td>Petter Mattei's \"Love in the Time of Money\" is...</td>\n",
              "      <td>positive</td>\n",
              "    </tr>\n",
              "  </tbody>\n",
              "</table>\n",
              "</div>"
            ],
            "text/plain": [
              "                                              review sentiment\n",
              "0  One of the other reviewers has mentioned that ...  positive\n",
              "1  A wonderful little production. <br /><br />The...  positive\n",
              "2  I thought this was a wonderful way to spend ti...  positive\n",
              "3  Basically there's a family where a little boy ...  negative\n",
              "4  Petter Mattei's \"Love in the Time of Money\" is...  positive"
            ]
          },
          "metadata": {
            "tags": []
          },
          "execution_count": 2
        }
      ]
    },
    {
      "cell_type": "code",
      "metadata": {
        "id": "DoVJda-EH4nF"
      },
      "source": [
        "# indexing the sentiment {'positive':1,'negative':1}\r\n",
        "index_label = []\r\n",
        "for sentiment in dataset['sentiment']:\r\n",
        "  if sentiment =='positive':\r\n",
        "    index_label.append(1)\r\n",
        "  else:\r\n",
        "    index_label.append(0)\r\n",
        "dataset['sentiment'] = index_label"
      ],
      "execution_count": 3,
      "outputs": []
    },
    {
      "cell_type": "code",
      "metadata": {
        "colab": {
          "base_uri": "https://localhost:8080/"
        },
        "id": "3kVrFjwHPxEX",
        "outputId": "9397a16d-c70c-432c-df5b-b0cf190b0939"
      },
      "source": [
        "# Count number of Positive and Negative sentiment\r\n",
        "print(\"Positive Label = \",dataset[dataset['sentiment'] == 1]['sentiment'].count())\r\n",
        "print(\"Negative Label = \",dataset[dataset['sentiment'] ==0]['sentiment'].count())"
      ],
      "execution_count": 4,
      "outputs": [
        {
          "output_type": "stream",
          "text": [
            "Positive Label =  25000\n",
            "Negative Label =  25000\n"
          ],
          "name": "stdout"
        }
      ]
    },
    {
      "cell_type": "markdown",
      "metadata": {
        "id": "tdUvBv5XQk7t"
      },
      "source": [
        "This show that data is balance"
      ]
    },
    {
      "cell_type": "code",
      "metadata": {
        "id": "dqWjLycGQeyv"
      },
      "source": [
        "#https://gist.githubusercontent.com/sebleier/554280/raw/7e0e4a1ce04c2bb7bd41089c9821dbcf6d0c786c/NLTK's%2520list%2520of%2520english%2520stopwords\r\n",
        "stopwords= ['i', 'me', 'my', 'myself', 'we', 'our', 'ours', 'ourselves', 'you', \"you're\", \"you've\",\"you'll\", \"you'd\", 'your', 'yours', 'yourself', 'yourselves', 'he', 'him', 'his', 'himself',\r\n",
        "            'she', \"she's\", 'her', 'hers', 'herself', 'it', \"it's\", 'its', 'itself', 'they', 'them', 'their', \r\n",
        "            'theirs', 'themselves', 'what', 'which', 'who', 'whom', 'this', 'that', \"that'll\", 'these', 'those', \r\n",
        "            'am', 'is', 'are', 'was', 'were', 'be', 'been', 'being', 'have', 'has', 'had', 'having', 'do', 'does', \r\n",
        "            'did', 'doing', 'a', 'an', 'the', 'and', 'but', 'if', 'or', 'because', 'as', 'until', ' while', 'of',\r\n",
        "            'at', 'by', 'for', 'with', 'about', 'against', 'between', 'into', 'through', 'during', 'before', 'after',\r\n",
        "            'above', 'below', 'to', 'from', 'up', 'down', 'in', 'out', 'on', 'off', 'over', 'under' , 'again', 'further', \r\n",
        "            'then', 'once', 'here', 'there', 'when', 'where', 'why', 'how', 'all', 'any', 'both', 'e ach', 'few', 'more', \r\n",
        "            'most', 'other', 'some', 'such', 'only', 'own', 'same', 'so', 'than', 'too', 'very', \r\n",
        "            's', 't', 'can', 'will', 'just', 'don', \"don't\", 'should', \"should've\", 'now', 'd', 'll' , 'm', 'o', 're',\r\n",
        "            've', 'y', 'ain', 'aren', \"aren't\", 'couldn', \"couldn't\", 'didn', \"didn't\", 'doesn', \"do esn't\", 'hadn',\r\n",
        "            \"hadn't\", 'hasn', \"hasn't\", 'haven', \"haven't\", 'isn', \"isn't\", 'ma', 'mightn', \"mightn't\", 'mustn',\r\n",
        "            \"mustn't\", 'needn', \"needn't\", 'shan', \"shan't\", 'shouldn', \"shouldn't\", 'wasn', \"wasn't\", 'weren', \"weren't\", \r\n",
        "            'won', \"won't\", 'wouldn', \"wouldn't\"]"
      ],
      "execution_count": 5,
      "outputs": []
    },
    {
      "cell_type": "code",
      "metadata": {
        "id": "N01_VVllQ0r-"
      },
      "source": [
        "# Cleaning the sentence \r\n",
        "def cleaning_sentence(data):\r\n",
        "  preprocessed_review = []\r\n",
        "  for sentance in data: \r\n",
        "    # remove next line tag \r\n",
        "    sent = sentance.replace('\\\\n', ' ')\r\n",
        "    # remove tab space \r\n",
        "    sent = sent.replace('\\\\t',' ')\r\n",
        "    # remove html tags \r\n",
        "    sent = re.sub(r'<[^>]*>',\"\",sent)\r\n",
        "    # put alphanumeric charater only\r\n",
        "    sent = re.sub('[^A-Za-z0-9]+', ' ', sent)\r\n",
        "    # https://gist.github.com/sebleier/554280 \r\n",
        "    sent = ' '.join(e for e in sent.split() if e not in stopwords) ## remove stopword \r\n",
        "    preprocessed_review.append(sent.lower().strip()) ## lowercase all the words.\r\n",
        "  return preprocessed_review"
      ],
      "execution_count": 6,
      "outputs": []
    },
    {
      "cell_type": "code",
      "metadata": {
        "id": "ktvAngeQcUiZ"
      },
      "source": [
        "# Cleans reviews\r\n",
        "clean_text = cleaning_sentence(dataset['review'])"
      ],
      "execution_count": 7,
      "outputs": []
    },
    {
      "cell_type": "code",
      "metadata": {
        "colab": {
          "base_uri": "https://localhost:8080/",
          "height": 322
        },
        "id": "TSOn_azGcgtu",
        "outputId": "bd31c4dd-7df3-49f5-d96c-41180d04b2a5"
      },
      "source": [
        "# To get average length of sentences in dataset\r\n",
        "max_len =[]\r\n",
        "for sent in clean_text:\r\n",
        "  max_len.append(len(sent))\r\n",
        "print(\"Max_word_len = \",max(max_len))\r\n",
        "print(\"Average word Length = \",np.average(max_len))\r\n",
        "sns.distplot(max_len)"
      ],
      "execution_count": 10,
      "outputs": [
        {
          "output_type": "stream",
          "text": [
            "Max_word_len =  9470\n",
            "Average word Length =  865.43264\n"
          ],
          "name": "stdout"
        },
        {
          "output_type": "execute_result",
          "data": {
            "text/plain": [
              "<matplotlib.axes._subplots.AxesSubplot at 0x7fbcb8e1b0f0>"
            ]
          },
          "metadata": {
            "tags": []
          },
          "execution_count": 10
        },
        {
          "output_type": "display_data",
          "data": {
            "image/png": "[encoded data removed]",
            "text/plain": [
              "<Figure size 432x288 with 1 Axes>"
            ]
          },
          "metadata": {
            "tags": [],
            "needs_background": "light"
          }
        }
      ]
    },
    {
      "cell_type": "code",
      "metadata": {
        "id": "XIHW-azQtDBl"
      },
      "source": [
        "# Tokenizing the sentences\r\n",
        "from keras.preprocessing.text import Tokenizer\r\n",
        "tokenizer = Tokenizer(num_words=100000)\r\n",
        "tokenizer.fit_on_texts(clean_text)\r\n",
        "sequences = tokenizer.texts_to_sequences(clean_text)"
      ],
      "execution_count": 31,
      "outputs": []
    },
    {
      "cell_type": "code",
      "metadata": {
        "colab": {
          "base_uri": "https://localhost:8080/"
        },
        "id": "QlptiV_yC0N9",
        "outputId": "7b77cff7-9a24-411c-842d-d47b3b94b158"
      },
      "source": [
        "# Get word with their index for embedding \r\n",
        "word_index = tokenizer.word_index\r\n",
        "print('Found %s unique tokens.' % len(word_index))"
      ],
      "execution_count": 34,
      "outputs": [
        {
          "output_type": "stream",
          "text": [
            "Found 103437 unique tokens.\n"
          ],
          "name": "stdout"
        }
      ]
    },
    {
      "cell_type": "code",
      "metadata": {
        "colab": {
          "base_uri": "https://localhost:8080/"
        },
        "id": "uYBHy_zdaRg5",
        "outputId": "67199d31-6df3-47f5-f0c6-ad10ff9c2f02"
      },
      "source": [
        "## import pretrained Embedding Word2Vec \r\n",
        "embeddings_index = {}\r\n",
        "f = open(os.path.join('/content/drive/MyDrive/glove.6B.100d.txt'))\r\n",
        "for line in f:\r\n",
        "    values = line.split()\r\n",
        "    word = values[0]\r\n",
        "    coefs = np.asarray(values[1:], dtype='float32')\r\n",
        "    embeddings_index[word] = coefs\r\n",
        "f.close()\r\n",
        "\r\n",
        "print('Found %s word vectors.' % len(embeddings_index))"
      ],
      "execution_count": 35,
      "outputs": [
        {
          "output_type": "stream",
          "text": [
            "Found 400000 word vectors.\n"
          ],
          "name": "stdout"
        }
      ]
    },
    {
      "cell_type": "code",
      "metadata": {
        "id": "s36Za-NtaRv8"
      },
      "source": [
        "## Index the word with previous trained tokenizer to match with embedding word index\r\n",
        "EMBEDDING_DIM = 100\r\n",
        "embedding_matrix = np.zeros((len(word_index) + 1, EMBEDDING_DIM))\r\n",
        "for word, i in word_index.items():\r\n",
        "    embedding_vector = embeddings_index.get(word)\r\n",
        "    if embedding_vector is not None:\r\n",
        "        # words not found in embedding index will be all-zeros.\r\n",
        "        embedding_matrix[i] = embedding_vector"
      ],
      "execution_count": 36,
      "outputs": []
    },
    {
      "cell_type": "code",
      "metadata": {
        "colab": {
          "base_uri": "https://localhost:8080/"
        },
        "id": "msg7yMhvDe0L",
        "outputId": "8fe82027-ca50-4a1b-f39c-1d3d3e0a301c"
      },
      "source": [
        "from  keras.preprocessing.sequence import pad_sequences\r\n",
        "from keras.utils import to_categorical\r\n",
        "from sklearn.model_selection import train_test_split\r\n",
        "## Split the dataset into training and testing data\r\n",
        "X_train, X_test, y_train, y_test = train_test_split( sequences,dataset['sentiment'].values, test_size=0.33, random_state=42)\r\n",
        "print(\"Training dataset shape = \",len(X_train))\r\n",
        "print(\"Test dataset shape = \",len(X_test))"
      ],
      "execution_count": 37,
      "outputs": [
        {
          "output_type": "stream",
          "text": [
            "Training dataset shape =  33500\n",
            "Test dataset shape =  16500\n"
          ],
          "name": "stdout"
        }
      ]
    },
    {
      "cell_type": "code",
      "metadata": {
        "colab": {
          "base_uri": "https://localhost:8080/"
        },
        "id": "-UNHJCwqE8UO",
        "outputId": "d1eca902-8b50-4390-8f03-706111c9097f"
      },
      "source": [
        "# Add sequence to have same  length of input sequence\r\n",
        "train_sent = pad_sequences(X_train, maxlen=200,padding = 'post')\r\n",
        "test_sent = pad_sequences(X_test,maxlen = 200,padding = 'post')\r\n",
        "\r\n",
        "print(\"Training Dataset shape = {},{}\".format(train_sent.shape,y_train.shape))\r\n",
        "print(\"Test Dataset shape = {},{}\".format(test_sent.shape,y_test.shape))"
      ],
      "execution_count": 38,
      "outputs": [
        {
          "output_type": "stream",
          "text": [
            "Training Dataset shape = (33500, 200),(33500,)\n",
            "Test Dataset shape = (16500, 200),(16500,)\n"
          ],
          "name": "stdout"
        }
      ]
    },
    {
      "cell_type": "code",
      "metadata": {
        "colab": {
          "base_uri": "https://localhost:8080/"
        },
        "id": "ubtxCKdYGvNl",
        "outputId": "57c305e7-32b3-40d1-a92b-a21c6d33a1f6"
      },
      "source": [
        "## Defining model architecture\r\n",
        "from keras.layers import Embedding,Input,Conv1D,MaxPooling1D,Dense,Flatten,LSTM,Dropout\r\n",
        "from keras.models import Model\r\n",
        "\r\n",
        "sequence_input = Input(shape=(200,), dtype='int32')\r\n",
        "embedding_layer = Embedding(len(word_index) + 1,\r\n",
        "                            EMBEDDING_DIM,\r\n",
        "                            weights=[embedding_matrix],\r\n",
        "                            input_length=200,\r\n",
        "                            trainable=False)\r\n",
        "embedded_sequences = embedding_layer(sequence_input)\r\n",
        "x = LSTM(32,return_sequences=True)(embedded_sequences)\r\n",
        "x = Conv1D(128,5,activation = 'relu')(x)\r\n",
        "x = MaxPooling1D(pool_size = 32)(x)\r\n",
        "x = Flatten()(x)\r\n",
        "preds = Dense(1, activation='sigmoid')(x)\r\n",
        "\r\n",
        "model = Model(sequence_input, preds)\r\n",
        "model.summary()"
      ],
      "execution_count": 68,
      "outputs": [
        {
          "output_type": "stream",
          "text": [
            "Model: \"model_7\"\n",
            "_________________________________________________________________\n",
            "Layer (type)                 Output Shape              Param #   \n",
            "=================================================================\n",
            "input_10 (InputLayer)        [(None, 200)]             0         \n",
            "_________________________________________________________________\n",
            "embedding_9 (Embedding)      (None, 200, 100)          10343800  \n",
            "_________________________________________________________________\n",
            "lstm_9 (LSTM)                (None, 200, 32)           17024     \n",
            "_________________________________________________________________\n",
            "conv1d_4 (Conv1D)            (None, 196, 128)          20608     \n",
            "_________________________________________________________________\n",
            "max_pooling1d_3 (MaxPooling1 (None, 6, 128)            0         \n",
            "_________________________________________________________________\n",
            "flatten (Flatten)            (None, 768)               0         \n",
            "_________________________________________________________________\n",
            "dense_8 (Dense)              (None, 1)                 769       \n",
            "=================================================================\n",
            "Total params: 10,382,201\n",
            "Trainable params: 38,401\n",
            "Non-trainable params: 10,343,800\n",
            "_________________________________________________________________\n"
          ],
          "name": "stdout"
        }
      ]
    },
    {
      "cell_type": "code",
      "metadata": {
        "colab": {
          "base_uri": "https://localhost:8080/"
        },
        "id": "LK8QbVrOab8C",
        "outputId": "01f1138c-8493-49b6-f116-22c099039947"
      },
      "source": [
        "## Training model\r\n",
        "from keras.metrics import AUC\r\n",
        "from keras.losses import BinaryCrossentropy\r\n",
        "from tensorflow.keras.callbacks import ReduceLROnPlateau\r\n",
        "## Reduce learning rate by monitoring the val_loss\r\n",
        "reduce_lr = ReduceLROnPlateau(monitor='val_loss', factor=0.8,\r\n",
        "                              patience=2, min_lr=0.0)\r\n",
        "\r\n",
        "model.compile(loss='binary_crossentropy',\r\n",
        "              optimizer='adam',\r\n",
        "              metrics='acc')\r\n",
        "\r\n",
        "model.fit(train_sent,y_train ,validation_data=(test_sent,y_test),\r\n",
        "          epochs=10, batch_size=128,callbacks = [reduce_lr])"
      ],
      "execution_count": 69,
      "outputs": [
        {
          "output_type": "stream",
          "text": [
            "Epoch 1/10\n",
            "262/262 [==============================] - 64s 237ms/step - loss: 0.5434 - acc: 0.7156 - val_loss: 0.3957 - val_acc: 0.8224\n",
            "Epoch 2/10\n",
            "262/262 [==============================] - 62s 236ms/step - loss: 0.3785 - acc: 0.8326 - val_loss: 0.3530 - val_acc: 0.8433\n",
            "Epoch 3/10\n",
            "262/262 [==============================] - 62s 237ms/step - loss: 0.3360 - acc: 0.8530 - val_loss: 0.3245 - val_acc: 0.8591\n",
            "Epoch 4/10\n",
            "262/262 [==============================] - 62s 236ms/step - loss: 0.3090 - acc: 0.8705 - val_loss: 0.3205 - val_acc: 0.8595\n",
            "Epoch 5/10\n",
            "262/262 [==============================] - 62s 236ms/step - loss: 0.2889 - acc: 0.8792 - val_loss: 0.3029 - val_acc: 0.8714\n",
            "Epoch 6/10\n",
            "262/262 [==============================] - 62s 237ms/step - loss: 0.2677 - acc: 0.8894 - val_loss: 0.3016 - val_acc: 0.8692\n",
            "Epoch 7/10\n",
            "262/262 [==============================] - 62s 236ms/step - loss: 0.2557 - acc: 0.8952 - val_loss: 0.2946 - val_acc: 0.8782\n",
            "Epoch 8/10\n",
            "262/262 [==============================] - 62s 237ms/step - loss: 0.2345 - acc: 0.9048 - val_loss: 0.3090 - val_acc: 0.8718\n",
            "Epoch 9/10\n",
            "262/262 [==============================] - 62s 237ms/step - loss: 0.2232 - acc: 0.9128 - val_loss: 0.3185 - val_acc: 0.8652\n",
            "Epoch 10/10\n",
            "262/262 [==============================] - 65s 250ms/step - loss: 0.2072 - acc: 0.9172 - val_loss: 0.2969 - val_acc: 0.8820\n"
          ],
          "name": "stdout"
        },
        {
          "output_type": "execute_result",
          "data": {
            "text/plain": [
              "<tensorflow.python.keras.callbacks.History at 0x7fbc5d1096d8>"
            ]
          },
          "metadata": {
            "tags": []
          },
          "execution_count": 69
        }
      ]
    },
    {
      "cell_type": "code",
      "metadata": {
        "id": "IthqA9Vmd2JQ"
      },
      "source": [
        "from sklearn.metrics import confusion_matrix\r\n",
        "import matplotlib.pyplot as plt\r\n",
        "import seaborn as sns\r\n",
        "\r\n",
        "\r\n",
        "## Define matrix \r\n",
        "def plot_confusionMatrix(predicted_y,true_y):\r\n",
        "  # get confusion matrix\r\n",
        "  data = confusion_matrix(true_y, predicted_y)\r\n",
        "  # get recall matrix\r\n",
        "  recall_mat = (((data.T)/(data.sum(axis=1))).T)\r\n",
        "  # get precision Matrix\r\n",
        "  precision_mat = (data/data.sum(axis=0))\r\n",
        "\r\n",
        "  ## Plot the all the matrix \r\n",
        "  plt.figure(figsize=(20,4))\r\n",
        "  cmap=sns.light_palette(\"blue\")\r\n",
        "  labels = ['positive','negative']\r\n",
        "  plt.subplot(1, 3, 1)\r\n",
        "  sns.heatmap(data, annot=True, cmap=cmap, fmt=\".3f\", xticklabels=labels, yticklabels=labels)\r\n",
        "  plt.xlabel('Predicted Class')\r\n",
        "  plt.ylabel('Original Class')\r\n",
        "  plt.title(\"Confusion matrix\")\r\n",
        "  \r\n",
        "  plt.subplot(1, 3, 2)\r\n",
        "  sns.heatmap(precision_mat, annot=True, cmap=cmap, fmt=\".3f\", xticklabels=labels, yticklabels=labels)\r\n",
        "  plt.xlabel('Predicted Class')\r\n",
        "  plt.ylabel('Original Class')\r\n",
        "  plt.title(\"Precision matrix\")\r\n",
        "  plt.subplot(1, 3, 3) \r\n",
        "\r\n",
        "  sns.heatmap(recall_mat, annot=True, cmap=cmap, fmt=\".3f\", xticklabels=labels, yticklabels=labels)\r\n",
        "  plt.xlabel('Predicted Class')\r\n",
        "  plt.ylabel('Original Class')\r\n",
        "  plt.title(\"Recall matrix\")\r\n",
        "  plt.show()"
      ],
      "execution_count": 76,
      "outputs": []
    },
    {
      "cell_type": "code",
      "metadata": {
        "id": "PAdKVLoLWu1L"
      },
      "source": [
        "## Helper function \r\n",
        "## Convert percentage to positive sentiment to binary label \r\n",
        "def predict_label(sequences):\r\n",
        "  pred = model.predict(sequences)\r\n",
        "  prediction  = []\r\n",
        "  for val in pred:\r\n",
        "    if val>0.5:\r\n",
        "      prediction.append(1)\r\n",
        "    else:\r\n",
        "      prediction.append(0)\r\n",
        "  return prediction\r\n",
        "\r\n",
        "train_pred = predict_label(train_sent)\r\n",
        "test_pred = predict_label(test_sent)\r\n"
      ],
      "execution_count": 71,
      "outputs": []
    },
    {
      "cell_type": "markdown",
      "metadata": {
        "id": "46yAVb6cezzX"
      },
      "source": [
        "## TRAIN "
      ]
    },
    {
      "cell_type": "code",
      "metadata": {
        "colab": {
          "base_uri": "https://localhost:8080/",
          "height": 295
        },
        "id": "-YOEFZRBe2Rj",
        "outputId": "1d47a449-3b11-4d22-c588-cd8e8d41c5bb"
      },
      "source": [
        "# Plot the matrix for training data\r\n",
        "plot_confusionMatrix(train_pred,y_train)\r\n"
      ],
      "execution_count": 77,
      "outputs": [
        {
          "output_type": "display_data",
          "data": {
            "image/png": "[encoded data removed]",
            "text/plain": [
              "<Figure size 1440x288 with 6 Axes>"
            ]
          },
          "metadata": {
            "tags": [],
            "needs_background": "light"
          }
        }
      ]
    },
    {
      "cell_type": "markdown",
      "metadata": {
        "id": "wY4jUYWPfLCL"
      },
      "source": [
        "## TEST"
      ]
    },
    {
      "cell_type": "code",
      "metadata": {
        "colab": {
          "base_uri": "https://localhost:8080/",
          "height": 295
        },
        "id": "gP5LOiRQfL6T",
        "outputId": "4d1bdfe8-fcb7-4304-8af3-738d4e1e4787"
      },
      "source": [
        "# Plot metric for test data \r\n",
        "plot_confusionMatrix(test_pred,y_test)\r\n"
      ],
      "execution_count": 78,
      "outputs": [
        {
          "output_type": "display_data",
          "data": {
            "image/png": "[encoded data removed]",
            "text/plain": [
              "<Figure size 1440x288 with 6 Axes>"
            ]
          },
          "metadata": {
            "tags": [],
            "needs_background": "light"
          }
        }
      ]
    }
  ]
}